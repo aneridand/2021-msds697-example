{
 "cells": [
  {
   "cell_type": "code",
   "execution_count": 1,
   "metadata": {
    "ExecuteTime": {
     "end_time": "2021-01-11T06:15:02.811837Z",
     "start_time": "2021-01-11T06:14:59.824456Z"
    }
   },
   "outputs": [],
   "source": [
    "from pyspark import SparkContext\n",
    "sc = SparkContext.getOrCreate()"
   ]
  },
  {
   "cell_type": "code",
   "execution_count": 2,
   "metadata": {
    "ExecuteTime": {
     "end_time": "2021-01-11T06:15:02.824202Z",
     "start_time": "2021-01-11T06:15:02.813897Z"
    }
   },
   "outputs": [
    {
     "data": {
      "text/html": [
       "\n",
       "        <div>\n",
       "            <p><b>SparkContext</b></p>\n",
       "\n",
       "            <p><a href=\"http://192.168.0.166:4042\">Spark UI</a></p>\n",
       "\n",
       "            <dl>\n",
       "              <dt>Version</dt>\n",
       "                <dd><code>v3.0.0</code></dd>\n",
       "              <dt>Master</dt>\n",
       "                <dd><code>local[*]</code></dd>\n",
       "              <dt>AppName</dt>\n",
       "                <dd><code>pyspark-shell</code></dd>\n",
       "            </dl>\n",
       "        </div>\n",
       "        "
      ],
      "text/plain": [
       "<SparkContext master=local[*] appName=pyspark-shell>"
      ]
     },
     "execution_count": 2,
     "metadata": {},
     "output_type": "execute_result"
    }
   ],
   "source": [
    "sc"
   ]
  },
  {
   "cell_type": "code",
   "execution_count": 3,
   "metadata": {
    "ExecuteTime": {
     "end_time": "2021-01-11T06:15:02.828187Z",
     "start_time": "2021-01-11T06:15:02.826209Z"
    }
   },
   "outputs": [],
   "source": [
    "import random"
   ]
  },
  {
   "cell_type": "markdown",
   "metadata": {},
   "source": [
    "# What are the types of dependencies in the following code?"
   ]
  },
  {
   "cell_type": "markdown",
   "metadata": {},
   "source": [
    "### Create list size of 500 with integer between 0 and 9."
   ]
  },
  {
   "cell_type": "code",
   "execution_count": 4,
   "metadata": {
    "ExecuteTime": {
     "end_time": "2021-01-11T06:15:04.215446Z",
     "start_time": "2021-01-11T06:15:04.212170Z"
    }
   },
   "outputs": [],
   "source": [
    "list = [random.randrange(10) for x in range(500)]"
   ]
  },
  {
   "cell_type": "code",
   "execution_count": 5,
   "metadata": {
    "ExecuteTime": {
     "end_time": "2021-01-11T06:15:04.826532Z",
     "start_time": "2021-01-11T06:15:04.564925Z"
    }
   },
   "outputs": [],
   "source": [
    "listrdd = sc.parallelize(list, 5)"
   ]
  },
  {
   "cell_type": "code",
   "execution_count": 6,
   "metadata": {
    "ExecuteTime": {
     "end_time": "2021-01-11T06:15:04.857427Z",
     "start_time": "2021-01-11T06:15:04.853025Z"
    }
   },
   "outputs": [],
   "source": [
    "pairs = listrdd.map(lambda x : (x,x*x))"
   ]
  },
  {
   "cell_type": "code",
   "execution_count": 7,
   "metadata": {
    "ExecuteTime": {
     "end_time": "2021-01-11T06:15:06.421581Z",
     "start_time": "2021-01-11T06:15:05.166821Z"
    }
   },
   "outputs": [
    {
     "data": {
      "text/plain": [
       "[(6, 36),\n",
       " (9, 81),\n",
       " (8, 64),\n",
       " (6, 36),\n",
       " (3, 9),\n",
       " (8, 64),\n",
       " (7, 49),\n",
       " (7, 49),\n",
       " (2, 4),\n",
       " (3, 9),\n",
       " (4, 16),\n",
       " (1, 1),\n",
       " (9, 81),\n",
       " (9, 81),\n",
       " (0, 0),\n",
       " (4, 16),\n",
       " (1, 1),\n",
       " (3, 9),\n",
       " (6, 36),\n",
       " (1, 1),\n",
       " (7, 49),\n",
       " (4, 16),\n",
       " (5, 25),\n",
       " (0, 0),\n",
       " (1, 1),\n",
       " (4, 16),\n",
       " (0, 0),\n",
       " (1, 1),\n",
       " (3, 9),\n",
       " (5, 25),\n",
       " (1, 1),\n",
       " (5, 25),\n",
       " (4, 16),\n",
       " (3, 9),\n",
       " (7, 49),\n",
       " (5, 25),\n",
       " (2, 4),\n",
       " (5, 25),\n",
       " (9, 81),\n",
       " (5, 25),\n",
       " (0, 0),\n",
       " (9, 81),\n",
       " (7, 49),\n",
       " (6, 36),\n",
       " (3, 9),\n",
       " (9, 81),\n",
       " (2, 4),\n",
       " (5, 25),\n",
       " (8, 64),\n",
       " (2, 4),\n",
       " (8, 64),\n",
       " (5, 25),\n",
       " (3, 9),\n",
       " (4, 16),\n",
       " (8, 64),\n",
       " (4, 16),\n",
       " (8, 64),\n",
       " (8, 64),\n",
       " (8, 64),\n",
       " (5, 25),\n",
       " (2, 4),\n",
       " (9, 81),\n",
       " (8, 64),\n",
       " (8, 64),\n",
       " (7, 49),\n",
       " (8, 64),\n",
       " (6, 36),\n",
       " (4, 16),\n",
       " (5, 25),\n",
       " (8, 64),\n",
       " (5, 25),\n",
       " (5, 25),\n",
       " (0, 0),\n",
       " (0, 0),\n",
       " (8, 64),\n",
       " (0, 0),\n",
       " (0, 0),\n",
       " (5, 25),\n",
       " (0, 0),\n",
       " (9, 81),\n",
       " (4, 16),\n",
       " (8, 64),\n",
       " (0, 0),\n",
       " (0, 0),\n",
       " (3, 9),\n",
       " (8, 64),\n",
       " (3, 9),\n",
       " (9, 81),\n",
       " (2, 4),\n",
       " (7, 49),\n",
       " (4, 16),\n",
       " (8, 64),\n",
       " (2, 4),\n",
       " (1, 1),\n",
       " (2, 4),\n",
       " (6, 36),\n",
       " (1, 1),\n",
       " (6, 36),\n",
       " (9, 81),\n",
       " (6, 36),\n",
       " (3, 9),\n",
       " (0, 0),\n",
       " (2, 4),\n",
       " (8, 64),\n",
       " (2, 4),\n",
       " (8, 64),\n",
       " (9, 81),\n",
       " (7, 49),\n",
       " (1, 1),\n",
       " (1, 1),\n",
       " (8, 64),\n",
       " (9, 81),\n",
       " (4, 16),\n",
       " (9, 81),\n",
       " (4, 16),\n",
       " (1, 1),\n",
       " (7, 49),\n",
       " (3, 9),\n",
       " (6, 36),\n",
       " (8, 64),\n",
       " (7, 49),\n",
       " (9, 81),\n",
       " (3, 9),\n",
       " (7, 49),\n",
       " (9, 81),\n",
       " (1, 1),\n",
       " (9, 81),\n",
       " (9, 81),\n",
       " (4, 16),\n",
       " (3, 9),\n",
       " (7, 49),\n",
       " (7, 49),\n",
       " (2, 4),\n",
       " (1, 1),\n",
       " (9, 81),\n",
       " (9, 81),\n",
       " (8, 64),\n",
       " (0, 0),\n",
       " (9, 81),\n",
       " (5, 25),\n",
       " (1, 1),\n",
       " (1, 1),\n",
       " (8, 64),\n",
       " (7, 49),\n",
       " (5, 25),\n",
       " (7, 49),\n",
       " (8, 64),\n",
       " (4, 16),\n",
       " (9, 81),\n",
       " (3, 9),\n",
       " (3, 9),\n",
       " (3, 9),\n",
       " (4, 16),\n",
       " (9, 81),\n",
       " (3, 9),\n",
       " (5, 25),\n",
       " (8, 64),\n",
       " (8, 64),\n",
       " (6, 36),\n",
       " (8, 64),\n",
       " (8, 64),\n",
       " (5, 25),\n",
       " (1, 1),\n",
       " (2, 4),\n",
       " (2, 4),\n",
       " (2, 4),\n",
       " (9, 81),\n",
       " (8, 64),\n",
       " (9, 81),\n",
       " (8, 64),\n",
       " (6, 36),\n",
       " (8, 64),\n",
       " (1, 1),\n",
       " (5, 25),\n",
       " (6, 36),\n",
       " (6, 36),\n",
       " (5, 25),\n",
       " (8, 64),\n",
       " (2, 4),\n",
       " (3, 9),\n",
       " (6, 36),\n",
       " (5, 25),\n",
       " (6, 36),\n",
       " (5, 25),\n",
       " (7, 49),\n",
       " (3, 9),\n",
       " (7, 49),\n",
       " (6, 36),\n",
       " (0, 0),\n",
       " (9, 81),\n",
       " (7, 49),\n",
       " (0, 0),\n",
       " (9, 81),\n",
       " (8, 64),\n",
       " (5, 25),\n",
       " (7, 49),\n",
       " (7, 49),\n",
       " (4, 16),\n",
       " (4, 16),\n",
       " (9, 81),\n",
       " (9, 81),\n",
       " (9, 81),\n",
       " (5, 25),\n",
       " (7, 49),\n",
       " (3, 9),\n",
       " (1, 1),\n",
       " (8, 64),\n",
       " (0, 0),\n",
       " (4, 16),\n",
       " (0, 0),\n",
       " (2, 4),\n",
       " (7, 49),\n",
       " (6, 36),\n",
       " (3, 9),\n",
       " (9, 81),\n",
       " (2, 4),\n",
       " (3, 9),\n",
       " (0, 0),\n",
       " (4, 16),\n",
       " (1, 1),\n",
       " (2, 4),\n",
       " (1, 1),\n",
       " (8, 64),\n",
       " (3, 9),\n",
       " (0, 0),\n",
       " (7, 49),\n",
       " (3, 9),\n",
       " (3, 9),\n",
       " (1, 1),\n",
       " (1, 1),\n",
       " (5, 25),\n",
       " (0, 0),\n",
       " (2, 4),\n",
       " (0, 0),\n",
       " (0, 0),\n",
       " (6, 36),\n",
       " (0, 0),\n",
       " (3, 9),\n",
       " (8, 64),\n",
       " (6, 36),\n",
       " (1, 1),\n",
       " (5, 25),\n",
       " (1, 1),\n",
       " (4, 16),\n",
       " (9, 81),\n",
       " (5, 25),\n",
       " (5, 25),\n",
       " (8, 64),\n",
       " (7, 49),\n",
       " (9, 81),\n",
       " (2, 4),\n",
       " (0, 0),\n",
       " (4, 16),\n",
       " (3, 9),\n",
       " (4, 16),\n",
       " (5, 25),\n",
       " (1, 1),\n",
       " (4, 16),\n",
       " (8, 64),\n",
       " (8, 64),\n",
       " (1, 1),\n",
       " (6, 36),\n",
       " (7, 49),\n",
       " (2, 4),\n",
       " (4, 16),\n",
       " (9, 81),\n",
       " (7, 49),\n",
       " (5, 25),\n",
       " (0, 0),\n",
       " (5, 25),\n",
       " (9, 81),\n",
       " (7, 49),\n",
       " (7, 49),\n",
       " (5, 25),\n",
       " (3, 9),\n",
       " (8, 64),\n",
       " (8, 64),\n",
       " (7, 49),\n",
       " (3, 9),\n",
       " (4, 16),\n",
       " (6, 36),\n",
       " (9, 81),\n",
       " (1, 1),\n",
       " (7, 49),\n",
       " (6, 36),\n",
       " (5, 25),\n",
       " (3, 9),\n",
       " (8, 64),\n",
       " (1, 1),\n",
       " (6, 36),\n",
       " (6, 36),\n",
       " (7, 49),\n",
       " (5, 25),\n",
       " (3, 9),\n",
       " (5, 25),\n",
       " (6, 36),\n",
       " (6, 36),\n",
       " (3, 9),\n",
       " (9, 81),\n",
       " (6, 36),\n",
       " (7, 49),\n",
       " (4, 16),\n",
       " (4, 16),\n",
       " (7, 49),\n",
       " (1, 1),\n",
       " (0, 0),\n",
       " (5, 25),\n",
       " (6, 36),\n",
       " (7, 49),\n",
       " (3, 9),\n",
       " (6, 36),\n",
       " (8, 64),\n",
       " (5, 25),\n",
       " (6, 36),\n",
       " (5, 25),\n",
       " (9, 81),\n",
       " (1, 1),\n",
       " (7, 49),\n",
       " (7, 49),\n",
       " (6, 36),\n",
       " (4, 16),\n",
       " (3, 9),\n",
       " (8, 64),\n",
       " (5, 25),\n",
       " (4, 16),\n",
       " (7, 49),\n",
       " (3, 9),\n",
       " (2, 4),\n",
       " (5, 25),\n",
       " (3, 9),\n",
       " (6, 36),\n",
       " (2, 4),\n",
       " (6, 36),\n",
       " (1, 1),\n",
       " (5, 25),\n",
       " (3, 9),\n",
       " (7, 49),\n",
       " (1, 1),\n",
       " (1, 1),\n",
       " (7, 49),\n",
       " (9, 81),\n",
       " (0, 0),\n",
       " (7, 49),\n",
       " (6, 36),\n",
       " (2, 4),\n",
       " (2, 4),\n",
       " (3, 9),\n",
       " (2, 4),\n",
       " (4, 16),\n",
       " (9, 81),\n",
       " (0, 0),\n",
       " (7, 49),\n",
       " (9, 81),\n",
       " (1, 1),\n",
       " (7, 49),\n",
       " (0, 0),\n",
       " (2, 4),\n",
       " (4, 16),\n",
       " (3, 9),\n",
       " (7, 49),\n",
       " (2, 4),\n",
       " (2, 4),\n",
       " (0, 0),\n",
       " (4, 16),\n",
       " (0, 0),\n",
       " (3, 9),\n",
       " (5, 25),\n",
       " (2, 4),\n",
       " (0, 0),\n",
       " (6, 36),\n",
       " (7, 49),\n",
       " (5, 25),\n",
       " (4, 16),\n",
       " (7, 49),\n",
       " (1, 1),\n",
       " (7, 49),\n",
       " (7, 49),\n",
       " (4, 16),\n",
       " (5, 25),\n",
       " (2, 4),\n",
       " (7, 49),\n",
       " (4, 16),\n",
       " (7, 49),\n",
       " (7, 49),\n",
       " (5, 25),\n",
       " (9, 81),\n",
       " (8, 64),\n",
       " (8, 64),\n",
       " (8, 64),\n",
       " (1, 1),\n",
       " (0, 0),\n",
       " (5, 25),\n",
       " (9, 81),\n",
       " (3, 9),\n",
       " (2, 4),\n",
       " (5, 25),\n",
       " (3, 9),\n",
       " (4, 16),\n",
       " (3, 9),\n",
       " (0, 0),\n",
       " (1, 1),\n",
       " (9, 81),\n",
       " (5, 25),\n",
       " (2, 4),\n",
       " (5, 25),\n",
       " (6, 36),\n",
       " (0, 0),\n",
       " (7, 49),\n",
       " (0, 0),\n",
       " (7, 49),\n",
       " (4, 16),\n",
       " (8, 64),\n",
       " (3, 9),\n",
       " (5, 25),\n",
       " (5, 25),\n",
       " (2, 4),\n",
       " (9, 81),\n",
       " (4, 16),\n",
       " (7, 49),\n",
       " (2, 4),\n",
       " (2, 4),\n",
       " (0, 0),\n",
       " (3, 9),\n",
       " (7, 49),\n",
       " (4, 16),\n",
       " (1, 1),\n",
       " (8, 64),\n",
       " (0, 0),\n",
       " (2, 4),\n",
       " (6, 36),\n",
       " (9, 81),\n",
       " (9, 81),\n",
       " (9, 81),\n",
       " (9, 81),\n",
       " (5, 25),\n",
       " (9, 81),\n",
       " (5, 25),\n",
       " (7, 49),\n",
       " (3, 9),\n",
       " (4, 16),\n",
       " (3, 9),\n",
       " (0, 0),\n",
       " (8, 64),\n",
       " (4, 16),\n",
       " (0, 0),\n",
       " (7, 49),\n",
       " (4, 16),\n",
       " (1, 1),\n",
       " (4, 16),\n",
       " (0, 0),\n",
       " (2, 4),\n",
       " (4, 16),\n",
       " (8, 64),\n",
       " (8, 64),\n",
       " (9, 81),\n",
       " (4, 16),\n",
       " (4, 16),\n",
       " (9, 81),\n",
       " (3, 9),\n",
       " (6, 36),\n",
       " (3, 9),\n",
       " (9, 81),\n",
       " (4, 16),\n",
       " (2, 4),\n",
       " (9, 81),\n",
       " (6, 36),\n",
       " (7, 49),\n",
       " (6, 36),\n",
       " (9, 81),\n",
       " (6, 36),\n",
       " (4, 16),\n",
       " (9, 81),\n",
       " (1, 1),\n",
       " (1, 1),\n",
       " (0, 0),\n",
       " (6, 36),\n",
       " (7, 49),\n",
       " (0, 0),\n",
       " (8, 64),\n",
       " (9, 81),\n",
       " (3, 9),\n",
       " (2, 4),\n",
       " (3, 9),\n",
       " (8, 64),\n",
       " (3, 9),\n",
       " (3, 9),\n",
       " (9, 81),\n",
       " (7, 49),\n",
       " (8, 64),\n",
       " (8, 64),\n",
       " (7, 49),\n",
       " (0, 0),\n",
       " (4, 16),\n",
       " (1, 1),\n",
       " (6, 36),\n",
       " (1, 1),\n",
       " (9, 81),\n",
       " (3, 9),\n",
       " (3, 9),\n",
       " (8, 64)]"
      ]
     },
     "execution_count": 7,
     "metadata": {},
     "output_type": "execute_result"
    }
   ],
   "source": [
    "pairs.collect()"
   ]
  },
  {
   "cell_type": "code",
   "execution_count": 8,
   "metadata": {
    "ExecuteTime": {
     "end_time": "2021-01-11T06:15:06.452164Z",
     "start_time": "2021-01-11T06:15:06.423453Z"
    }
   },
   "outputs": [],
   "source": [
    "reduced = pairs.reduceByKey(lambda x1,x2  : x1+x2)"
   ]
  },
  {
   "cell_type": "markdown",
   "metadata": {},
   "source": [
    "### mapPartitions() : Return a new RDD by applying a function to each partition of this RDD."
   ]
  },
  {
   "cell_type": "code",
   "execution_count": 9,
   "metadata": {
    "ExecuteTime": {
     "end_time": "2021-01-11T06:15:06.456611Z",
     "start_time": "2021-01-11T06:15:06.454203Z"
    }
   },
   "outputs": [],
   "source": [
    "finalRDD = reduced.mapPartitions(lambda itr : [\"Key = \" + str(key) +\", Value = \" + str(val) for (key,val) in itr])"
   ]
  },
  {
   "cell_type": "code",
   "execution_count": 10,
   "metadata": {
    "ExecuteTime": {
     "end_time": "2021-01-11T06:15:07.340828Z",
     "start_time": "2021-01-11T06:15:06.933292Z"
    }
   },
   "outputs": [
    {
     "data": {
      "text/plain": [
       "['Key = 0, Value = 0',\n",
       " 'Key = 5, Value = 1300',\n",
       " 'Key = 6, Value = 1548',\n",
       " 'Key = 1, Value = 43',\n",
       " 'Key = 7, Value = 2940',\n",
       " 'Key = 2, Value = 160',\n",
       " 'Key = 8, Value = 3584',\n",
       " 'Key = 3, Value = 495',\n",
       " 'Key = 9, Value = 4698',\n",
       " 'Key = 4, Value = 784']"
      ]
     },
     "execution_count": 10,
     "metadata": {},
     "output_type": "execute_result"
    }
   ],
   "source": [
    "finalRDD.collect()"
   ]
  },
  {
   "cell_type": "markdown",
   "metadata": {},
   "source": [
    "## .toDebugString()"
   ]
  },
  {
   "cell_type": "code",
   "execution_count": 11,
   "metadata": {
    "ExecuteTime": {
     "end_time": "2021-01-11T06:15:08.007294Z",
     "start_time": "2021-01-11T06:15:07.999410Z"
    }
   },
   "outputs": [
    {
     "name": "stdout",
     "output_type": "stream",
     "text": [
      "(5) PythonRDD[6] at collect at <ipython-input-10-35e5ca16387f>:1 []\n",
      " |  MapPartitionsRDD[5] at mapPartitions at PythonRDD.scala:133 []\n",
      " |  ShuffledRDD[4] at partitionBy at NativeMethodAccessorImpl.java:0 []\n",
      " +-(5) PairwiseRDD[3] at reduceByKey at <ipython-input-8-0a0b7f280310>:1 []\n",
      "    |  PythonRDD[2] at reduceByKey at <ipython-input-8-0a0b7f280310>:1 []\n",
      "    |  ParallelCollectionRDD[0] at readRDDFromFile at PythonRDD.scala:262 []\n"
     ]
    }
   ],
   "source": [
    "print(finalRDD.toDebugString().decode('utf-8'))"
   ]
  },
  {
   "cell_type": "markdown",
   "metadata": {},
   "source": [
    "## reduceByKey() and sortByKey()"
   ]
  },
  {
   "cell_type": "code",
   "execution_count": 12,
   "metadata": {
    "ExecuteTime": {
     "end_time": "2021-01-11T06:15:11.302130Z",
     "start_time": "2021-01-11T06:15:11.105965Z"
    }
   },
   "outputs": [],
   "source": [
    "ordered_finalRDD = pairs.reduceByKey(lambda x1,x2  : x1+x2).sortByKey()"
   ]
  },
  {
   "cell_type": "code",
   "execution_count": 13,
   "metadata": {
    "ExecuteTime": {
     "end_time": "2021-01-11T06:15:11.513860Z",
     "start_time": "2021-01-11T06:15:11.400856Z"
    }
   },
   "outputs": [
    {
     "data": {
      "text/plain": [
       "[(0, 0),\n",
       " (1, 43),\n",
       " (2, 160),\n",
       " (3, 495),\n",
       " (4, 784),\n",
       " (5, 1300),\n",
       " (6, 1548),\n",
       " (7, 2940),\n",
       " (8, 3584),\n",
       " (9, 4698)]"
      ]
     },
     "execution_count": 13,
     "metadata": {},
     "output_type": "execute_result"
    }
   ],
   "source": [
    "ordered_finalRDD.collect()"
   ]
  },
  {
   "cell_type": "code",
   "execution_count": 14,
   "metadata": {
    "ExecuteTime": {
     "end_time": "2021-01-11T06:15:11.816283Z",
     "start_time": "2021-01-11T06:15:11.811602Z"
    }
   },
   "outputs": [
    {
     "name": "stdout",
     "output_type": "stream",
     "text": [
      "(5) PythonRDD[17] at collect at <ipython-input-13-66b0575ea070>:1 []\n",
      " |  MapPartitionsRDD[16] at mapPartitions at PythonRDD.scala:133 []\n",
      " |  ShuffledRDD[15] at partitionBy at NativeMethodAccessorImpl.java:0 []\n",
      " +-(5) PairwiseRDD[14] at sortByKey at <ipython-input-12-1c5113e4259d>:1 []\n",
      "    |  PythonRDD[13] at sortByKey at <ipython-input-12-1c5113e4259d>:1 []\n",
      "    |  MapPartitionsRDD[10] at mapPartitions at PythonRDD.scala:133 []\n",
      "    |  ShuffledRDD[9] at partitionBy at NativeMethodAccessorImpl.java:0 []\n",
      "    +-(5) PairwiseRDD[8] at reduceByKey at <ipython-input-12-1c5113e4259d>:1 []\n",
      "       |  PythonRDD[7] at reduceByKey at <ipython-input-12-1c5113e4259d>:1 []\n",
      "       |  ParallelCollectionRDD[0] at readRDDFromFile at PythonRDD.scala:262 []\n"
     ]
    }
   ],
   "source": [
    "print(ordered_finalRDD.toDebugString().decode('utf-8'))"
   ]
  },
  {
   "cell_type": "markdown",
   "metadata": {},
   "source": [
    "## .coalesce() vs .repartition()"
   ]
  },
  {
   "cell_type": "code",
   "execution_count": 15,
   "metadata": {
    "ExecuteTime": {
     "end_time": "2021-01-11T06:15:12.789580Z",
     "start_time": "2021-01-11T06:15:12.785238Z"
    }
   },
   "outputs": [],
   "source": [
    "coalesce = ordered_finalRDD.coalesce(3)"
   ]
  },
  {
   "cell_type": "code",
   "execution_count": 16,
   "metadata": {
    "ExecuteTime": {
     "end_time": "2021-01-11T06:15:13.326067Z",
     "start_time": "2021-01-11T06:15:13.312469Z"
    }
   },
   "outputs": [
    {
     "name": "stdout",
     "output_type": "stream",
     "text": [
      "(3) CoalescedRDD[18] at coalesce at NativeMethodAccessorImpl.java:0 []\n",
      " |  PythonRDD[17] at collect at <ipython-input-13-66b0575ea070>:1 []\n",
      " |  MapPartitionsRDD[16] at mapPartitions at PythonRDD.scala:133 []\n",
      " |  ShuffledRDD[15] at partitionBy at NativeMethodAccessorImpl.java:0 []\n",
      " +-(5) PairwiseRDD[14] at sortByKey at <ipython-input-12-1c5113e4259d>:1 []\n",
      "    |  PythonRDD[13] at sortByKey at <ipython-input-12-1c5113e4259d>:1 []\n",
      "    |  MapPartitionsRDD[10] at mapPartitions at PythonRDD.scala:133 []\n",
      "    |  ShuffledRDD[9] at partitionBy at NativeMethodAccessorImpl.java:0 []\n",
      "    +-(5) PairwiseRDD[8] at reduceByKey at <ipython-input-12-1c5113e4259d>:1 []\n",
      "       |  PythonRDD[7] at reduceByKey at <ipython-input-12-1c5113e4259d>:1 []\n",
      "       |  ParallelCollectionRDD[0] at readRDDFromFile at PythonRDD.scala:262 []\n"
     ]
    }
   ],
   "source": [
    "print(coalesce.toDebugString().decode('utf-8'))"
   ]
  },
  {
   "cell_type": "code",
   "execution_count": 17,
   "metadata": {
    "ExecuteTime": {
     "end_time": "2021-01-11T06:15:13.738009Z",
     "start_time": "2021-01-11T06:15:13.721951Z"
    }
   },
   "outputs": [],
   "source": [
    "repartition = ordered_finalRDD.repartition(3)"
   ]
  },
  {
   "cell_type": "code",
   "execution_count": 18,
   "metadata": {
    "ExecuteTime": {
     "end_time": "2021-01-11T06:15:14.246190Z",
     "start_time": "2021-01-11T06:15:14.240882Z"
    }
   },
   "outputs": [
    {
     "name": "stdout",
     "output_type": "stream",
     "text": [
      "(3) MapPartitionsRDD[23] at coalesce at NativeMethodAccessorImpl.java:0 []\n",
      " |  CoalescedRDD[22] at coalesce at NativeMethodAccessorImpl.java:0 []\n",
      " |  ShuffledRDD[21] at coalesce at NativeMethodAccessorImpl.java:0 []\n",
      " +-(5) MapPartitionsRDD[20] at coalesce at NativeMethodAccessorImpl.java:0 []\n",
      "    |  PythonRDD[19] at RDD at PythonRDD.scala:53 []\n",
      "    |  MapPartitionsRDD[16] at mapPartitions at PythonRDD.scala:133 []\n",
      "    |  ShuffledRDD[15] at partitionBy at NativeMethodAccessorImpl.java:0 []\n",
      "    +-(5) PairwiseRDD[14] at sortByKey at <ipython-input-12-1c5113e4259d>:1 []\n",
      "       |  PythonRDD[13] at sortByKey at <ipython-input-12-1c5113e4259d>:1 []\n",
      "       |  MapPartitionsRDD[10] at mapPartitions at PythonRDD.scala:133 []\n",
      "       |  ShuffledRDD[9] at partitionBy at NativeMethodAccessorImpl.java:0 []\n",
      "       +-(5) PairwiseRDD[8] at reduceByKey at <ipython-input-12-1c5113e4259d>:1 []\n",
      "          |  PythonRDD[7] at reduceByKey at <ipython-input-12-1c5113e4259d>:1 []\n",
      "          |  ParallelCollectionRDD[0] at readRDDFromFile at PythonRDD.scala:262 []\n"
     ]
    }
   ],
   "source": [
    "print(repartition.toDebugString().decode('utf-8'))"
   ]
  },
  {
   "cell_type": "markdown",
   "metadata": {},
   "source": [
    "### Checkpoint : Checkpoint finalRDD and see its debug string."
   ]
  },
  {
   "cell_type": "code",
   "execution_count": 19,
   "metadata": {
    "ExecuteTime": {
     "end_time": "2021-01-11T06:15:15.618403Z",
     "start_time": "2021-01-11T06:15:15.198178Z"
    }
   },
   "outputs": [
    {
     "name": "stdout",
     "output_type": "stream",
     "text": [
      "(3) MapPartitionsRDD[23] at coalesce at NativeMethodAccessorImpl.java:0 []\n",
      " |  CoalescedRDD[22] at coalesce at NativeMethodAccessorImpl.java:0 []\n",
      " |  ShuffledRDD[21] at coalesce at NativeMethodAccessorImpl.java:0 []\n",
      " +-(5) MapPartitionsRDD[20] at coalesce at NativeMethodAccessorImpl.java:0 []\n",
      "    |  PythonRDD[19] at RDD at PythonRDD.scala:53 []\n",
      "    |  MapPartitionsRDD[16] at mapPartitions at PythonRDD.scala:133 []\n",
      "    |  ShuffledRDD[15] at partitionBy at NativeMethodAccessorImpl.java:0 []\n",
      "    +-(5) PairwiseRDD[14] at sortByKey at <ipython-input-12-1c5113e4259d>:1 []\n",
      "       |  PythonRDD[13] at sortByKey at <ipython-input-12-1c5113e4259d>:1 []\n",
      "       |  MapPartitionsRDD[10] at mapPartitions at PythonRDD.scala:133 []\n",
      "       |  ShuffledRDD[9] at partitionBy at NativeMethodAccessorImpl.java:0 []\n",
      "       +-(5) PairwiseRDD[8] at reduceByKey at <ipython-input-12-1c5113e4259d>:1 []\n",
      "          |  PythonRDD[7] at reduceByKey at <ipython-input-12-1c5113e4259d>:1 []\n",
      "          |  ParallelCollectionRDD[0] at readRDDFromFile at PythonRDD.scala:262 []\n",
      "False\n",
      "True\n",
      "file:/Users/dwoodbridge/Class/2021_MSDS697/Data/Day5/checkpoint/9768d460-b5e0-47d9-b6ad-9a9c1939e1da/rdd-23\n"
     ]
    }
   ],
   "source": [
    "print(repartition.toDebugString().decode('utf-8'))\n",
    "\n",
    "sc.setCheckpointDir(\"checkpoint\")\n",
    "repartition.checkpoint() # all references to its parent RDDs will be removed.\n",
    "print(repartition.isCheckpointed()) # not checkpointed until action()\n",
    "\n",
    "repartition.count()\n",
    "print(repartition.isCheckpointed())\n",
    "print(repartition.getCheckpointFile())"
   ]
  },
  {
   "cell_type": "code",
   "execution_count": 20,
   "metadata": {
    "ExecuteTime": {
     "end_time": "2021-01-11T06:15:17.473114Z",
     "start_time": "2021-01-11T06:15:17.469936Z"
    }
   },
   "outputs": [
    {
     "name": "stdout",
     "output_type": "stream",
     "text": [
      "(3) MapPartitionsRDD[23] at coalesce at NativeMethodAccessorImpl.java:0 []\n",
      " |  ReliableCheckpointRDD[25] at count at <ipython-input-19-6e9f129a1a34>:7 []\n"
     ]
    }
   ],
   "source": [
    "print(repartition.toDebugString().decode('utf-8'))"
   ]
  },
  {
   "cell_type": "code",
   "execution_count": 21,
   "metadata": {
    "ExecuteTime": {
     "end_time": "2021-01-11T06:15:22.511117Z",
     "start_time": "2021-01-11T06:15:21.934746Z"
    }
   },
   "outputs": [],
   "source": [
    "sc.stop()"
   ]
  },
  {
   "cell_type": "code",
   "execution_count": null,
   "metadata": {},
   "outputs": [],
   "source": []
  }
 ],
 "metadata": {
  "anaconda-cloud": {},
  "kernelspec": {
   "display_name": "Python 3",
   "language": "python",
   "name": "python3"
  },
  "language_info": {
   "codemirror_mode": {
    "name": "ipython",
    "version": 3
   },
   "file_extension": ".py",
   "mimetype": "text/x-python",
   "name": "python",
   "nbconvert_exporter": "python",
   "pygments_lexer": "ipython3",
   "version": "3.8.2"
  },
  "varInspector": {
   "cols": {
    "lenName": 16,
    "lenType": 16,
    "lenVar": 40
   },
   "kernels_config": {
    "python": {
     "delete_cmd_postfix": "",
     "delete_cmd_prefix": "del ",
     "library": "var_list.py",
     "varRefreshCmd": "print(var_dic_list())"
    },
    "r": {
     "delete_cmd_postfix": ") ",
     "delete_cmd_prefix": "rm(",
     "library": "var_list.r",
     "varRefreshCmd": "cat(var_dic_list()) "
    }
   },
   "types_to_exclude": [
    "module",
    "function",
    "builtin_function_or_method",
    "instance",
    "_Feature"
   ],
   "window_display": false
  }
 },
 "nbformat": 4,
 "nbformat_minor": 2
}
