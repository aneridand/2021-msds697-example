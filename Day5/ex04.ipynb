{
 "cells": [
  {
   "cell_type": "code",
   "execution_count": 1,
   "metadata": {
    "ExecuteTime": {
     "end_time": "2021-01-11T03:57:46.138990Z",
     "start_time": "2021-01-11T03:57:42.825691Z"
    }
   },
   "outputs": [],
   "source": [
    "from pyspark import SparkContext\n",
    "sc = SparkContext.getOrCreate()"
   ]
  },
  {
   "cell_type": "markdown",
   "metadata": {},
   "source": [
    "## Create RDDs using [('a',3),('b',4),('a',5), ('c',3), ('b',5)] and [('a',3),('b',4), ('b', 6)]. See how data are distributed when using 1) parallelize(Data, N) and 2) .partitionBy(N) after loading the data."
   ]
  },
  {
   "cell_type": "code",
   "execution_count": 2,
   "metadata": {
    "ExecuteTime": {
     "end_time": "2021-01-11T03:57:47.803604Z",
     "start_time": "2021-01-11T03:57:46.140957Z"
    }
   },
   "outputs": [
    {
     "data": {
      "text/plain": [
       "[[], [('a', 3)], [], [('b', 4)], [('a', 5)], [], [('c', 3)], [('b', 5)]]"
      ]
     },
     "execution_count": 2,
     "metadata": {},
     "output_type": "execute_result"
    }
   ],
   "source": [
    "data_1 = sc.parallelize([('a',3),('b',4),('a',5), ('c',3), ('b',5)], 8)\n",
    "data_1.glom().collect()"
   ]
  },
  {
   "cell_type": "code",
   "execution_count": 3,
   "metadata": {
    "ExecuteTime": {
     "end_time": "2021-01-11T03:57:48.264281Z",
     "start_time": "2021-01-11T03:57:47.805703Z"
    }
   },
   "outputs": [
    {
     "data": {
      "text/plain": [
       "[[], [('a', 3), ('a', 5)], [], [], [('b', 4), ('c', 3), ('b', 5)], [], [], []]"
      ]
     },
     "execution_count": 3,
     "metadata": {},
     "output_type": "execute_result"
    }
   ],
   "source": [
    "data_1 = data_1.partitionBy(8) #partitionBy uses HashPartitioner by default.\n",
    "data_1.glom().collect()"
   ]
  },
  {
   "cell_type": "markdown",
   "metadata": {},
   "source": [
    "## Create RDDs using [('a',3),('b',4), ('b', 6)]. See how data are distributed when using 1) parallelize(Data, N) and 2) .partitionBy(N) after loading the data."
   ]
  },
  {
   "cell_type": "code",
   "execution_count": 4,
   "metadata": {
    "ExecuteTime": {
     "end_time": "2021-01-11T03:57:48.319672Z",
     "start_time": "2021-01-11T03:57:48.266350Z"
    }
   },
   "outputs": [
    {
     "data": {
      "text/plain": [
       "[[], [], [('a', 3)], [], [], [('b', 4)], [], [('b', 6)]]"
      ]
     },
     "execution_count": 4,
     "metadata": {},
     "output_type": "execute_result"
    }
   ],
   "source": [
    "data_2 = sc.parallelize([('a',3),('b',4), ('b', 6)], 8)\n",
    "data_2.glom().collect()"
   ]
  },
  {
   "cell_type": "code",
   "execution_count": 5,
   "metadata": {
    "ExecuteTime": {
     "end_time": "2021-01-11T03:57:48.447761Z",
     "start_time": "2021-01-11T03:57:48.321932Z"
    }
   },
   "outputs": [
    {
     "data": {
      "text/plain": [
       "[[], [('a', 3)], [], [], [('b', 4), ('b', 6)], [], [], []]"
      ]
     },
     "execution_count": 5,
     "metadata": {},
     "output_type": "execute_result"
    }
   ],
   "source": [
    "data_2 = data_2.partitionBy(8)\n",
    "data_2.glom().collect()"
   ]
  },
  {
   "cell_type": "markdown",
   "metadata": {},
   "source": [
    "## Operations taking the number of partitions\n"
   ]
  },
  {
   "cell_type": "markdown",
   "metadata": {},
   "source": [
    "### sortBy(), sortByKey(), groupBy(), reduceByKey(), join(), leftOuterJoin(), rightOuterJoin(), partitionBy(), combineByKey(), aggregateByKey(), foldByKey(), groupByKey(), cogroup(), subtractByKey(), subtract(), repartition(), coalesce()"
   ]
  },
  {
   "cell_type": "code",
   "execution_count": 6,
   "metadata": {
    "ExecuteTime": {
     "end_time": "2021-01-11T03:57:48.773081Z",
     "start_time": "2021-01-11T03:57:48.449685Z"
    }
   },
   "outputs": [
    {
     "data": {
      "text/plain": [
       "[[('a', 3), ('a', 5)], [], [], [('b', 4), ('b', 5)], [], [], [('c', 3)], []]"
      ]
     },
     "execution_count": 6,
     "metadata": {},
     "output_type": "execute_result"
    }
   ],
   "source": [
    "data_1.sortByKey(8).glom().collect()"
   ]
  },
  {
   "cell_type": "markdown",
   "metadata": {},
   "source": [
    "## Operations benefting from Partitions"
   ]
  },
  {
   "cell_type": "markdown",
   "metadata": {},
   "source": [
    "### joins, groupByKey() reduceByKey(), combineByKey(), lookup()"
   ]
  },
  {
   "cell_type": "code",
   "execution_count": 7,
   "metadata": {
    "ExecuteTime": {
     "end_time": "2021-01-11T03:57:49.060791Z",
     "start_time": "2021-01-11T03:57:48.882701Z"
    }
   },
   "outputs": [
    {
     "data": {
      "text/plain": [
       "[[],\n",
       " [('a', (3, 3)), ('a', (5, 3))],\n",
       " [],\n",
       " [],\n",
       " [('b', (4, 4)), ('b', (4, 6)), ('b', (5, 4)), ('b', (5, 6))],\n",
       " [],\n",
       " [],\n",
       " []]"
      ]
     },
     "execution_count": 7,
     "metadata": {},
     "output_type": "execute_result"
    }
   ],
   "source": [
    "data_1.join(data_2, 8).glom().collect() #leftOuterJoin(), rightOuterJoin(), cogroup()"
   ]
  },
  {
   "cell_type": "code",
   "execution_count": 8,
   "metadata": {
    "ExecuteTime": {
     "end_time": "2021-01-11T03:57:49.473259Z",
     "start_time": "2021-01-11T03:57:49.428518Z"
    }
   },
   "outputs": [
    {
     "data": {
      "text/plain": [
       "[[],\n",
       " [('a', <pyspark.resultiterable.ResultIterable at 0x7fe77076e550>)],\n",
       " [],\n",
       " [],\n",
       " [('b', <pyspark.resultiterable.ResultIterable at 0x7fe7a0459df0>),\n",
       "  ('c', <pyspark.resultiterable.ResultIterable at 0x7fe7a04597c0>)],\n",
       " [],\n",
       " [],\n",
       " []]"
      ]
     },
     "execution_count": 8,
     "metadata": {},
     "output_type": "execute_result"
    }
   ],
   "source": [
    "data_1.groupByKey().glom().collect() #reduceByKey(), combineByKey(), lookup()"
   ]
  },
  {
   "cell_type": "code",
   "execution_count": 9,
   "metadata": {
    "ExecuteTime": {
     "end_time": "2021-01-11T03:57:55.490694Z",
     "start_time": "2021-01-11T03:57:54.947323Z"
    }
   },
   "outputs": [],
   "source": [
    "sc.stop()"
   ]
  },
  {
   "cell_type": "code",
   "execution_count": null,
   "metadata": {},
   "outputs": [],
   "source": []
  }
 ],
 "metadata": {
  "kernelspec": {
   "display_name": "Python 3",
   "language": "python",
   "name": "python3"
  },
  "language_info": {
   "codemirror_mode": {
    "name": "ipython",
    "version": 3
   },
   "file_extension": ".py",
   "mimetype": "text/x-python",
   "name": "python",
   "nbconvert_exporter": "python",
   "pygments_lexer": "ipython3",
   "version": "3.8.2"
  },
  "varInspector": {
   "cols": {
    "lenName": 16,
    "lenType": 16,
    "lenVar": 40
   },
   "kernels_config": {
    "python": {
     "delete_cmd_postfix": "",
     "delete_cmd_prefix": "del ",
     "library": "var_list.py",
     "varRefreshCmd": "print(var_dic_list())"
    },
    "r": {
     "delete_cmd_postfix": ") ",
     "delete_cmd_prefix": "rm(",
     "library": "var_list.r",
     "varRefreshCmd": "cat(var_dic_list()) "
    }
   },
   "types_to_exclude": [
    "module",
    "function",
    "builtin_function_or_method",
    "instance",
    "_Feature"
   ],
   "window_display": false
  }
 },
 "nbformat": 4,
 "nbformat_minor": 1
}
