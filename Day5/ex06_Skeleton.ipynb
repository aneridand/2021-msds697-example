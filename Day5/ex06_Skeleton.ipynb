{
 "cells": [
  {
   "cell_type": "code",
   "execution_count": 1,
   "metadata": {
    "ExecuteTime": {
     "end_time": "2021-01-12T05:58:27.964807Z",
     "start_time": "2021-01-12T05:58:25.395954Z"
    }
   },
   "outputs": [],
   "source": [
    "from pyspark import SparkContext\n",
    "sc = SparkContext.getOrCreate()"
   ]
  },
  {
   "cell_type": "code",
   "execution_count": 2,
   "metadata": {
    "ExecuteTime": {
     "end_time": "2021-01-12T05:58:31.686030Z",
     "start_time": "2021-01-12T05:58:31.484491Z"
    }
   },
   "outputs": [],
   "source": [
    "nums = sc.parallelize([(1,2),(3,4),(5,1),(2,3),(1,5)])"
   ]
  },
  {
   "cell_type": "code",
   "execution_count": 3,
   "metadata": {
    "ExecuteTime": {
     "end_time": "2021-01-12T05:58:38.047784Z",
     "start_time": "2021-01-12T05:58:36.689983Z"
    }
   },
   "outputs": [
    {
     "data": {
      "text/plain": [
       "[[], [(1, 2), (5, 1), (1, 5)], [(2, 3)], [(3, 4)]]"
      ]
     },
     "execution_count": 3,
     "metadata": {},
     "output_type": "execute_result"
    }
   ],
   "source": [
    "nums.partitionBy(4).glom().collect()"
   ]
  },
  {
   "cell_type": "markdown",
   "metadata": {},
   "source": [
    "## Create a custom partitioner using hash value of the key\n",
    "\n"
   ]
  },
  {
   "cell_type": "code",
   "execution_count": null,
   "metadata": {},
   "outputs": [],
   "source": [
    "def hash_partitioner(key):\n",
    "    return\n",
    "\n",
    "print(\"hash:\" + str(nums.partitionBy(4).glom().collect()))\n",
    "print(\"hash:\" + str(nums.partitionBy(4, hash_partitioner).glom().collect()))"
   ]
  },
  {
   "cell_type": "markdown",
   "metadata": {},
   "source": [
    "## Create a custom partitioner using hash value of the key + 10\n",
    "\n"
   ]
  },
  {
   "cell_type": "code",
   "execution_count": null,
   "metadata": {},
   "outputs": [],
   "source": [
    "def custom_hash_variation_partitioner(key):\n",
    "    return \n",
    "\n",
    "print(\"custom_hash_variation_partitioner : \" \\\n",
    "      + str(nums.partitionBy(4, custom_hash_variation_partitioner).glom().collect()))"
   ]
  },
  {
   "cell_type": "markdown",
   "metadata": {},
   "source": [
    "## Create a custom practitioner based on  whether the key is an odd or even number\n"
   ]
  },
  {
   "cell_type": "code",
   "execution_count": null,
   "metadata": {},
   "outputs": [],
   "source": [
    "partitionerdef custom_odd_even_partitioner(key):\n",
    "    return \n",
    "\n",
    "print(\"custom_odd_even_partitioner : \" \\\n",
    "      + str(nums.partitionBy(2, custom_odd_even_partitioner).glom().collect()))"
   ]
  },
  {
   "cell_type": "markdown",
   "metadata": {},
   "source": [
    "## Create a custom practitioner using range of the keys\n",
    "range partitioner implementaiton : https://fossies.org/linux/spark/python/pyspark/rdd.py"
   ]
  },
  {
   "cell_type": "code",
   "execution_count": null,
   "metadata": {},
   "outputs": [],
   "source": [
    "partitionerdef custom_ragne_partitioner(key):\n",
    "    \n",
    "    \n",
    "    \n",
    "print(\"custom_ragne_partitioner : \" \\\n",
    "      + str(nums.partitionBy(3, custom_ragne_partitioner).glom().collect()))"
   ]
  },
  {
   "cell_type": "code",
   "execution_count": null,
   "metadata": {},
   "outputs": [],
   "source": []
  }
 ],
 "metadata": {
  "anaconda-cloud": {},
  "kernelspec": {
   "display_name": "Python 3",
   "language": "python",
   "name": "python3"
  },
  "language_info": {
   "codemirror_mode": {
    "name": "ipython",
    "version": 3
   },
   "file_extension": ".py",
   "mimetype": "text/x-python",
   "name": "python",
   "nbconvert_exporter": "python",
   "pygments_lexer": "ipython3",
   "version": "3.8.2"
  },
  "varInspector": {
   "cols": {
    "lenName": 16,
    "lenType": 16,
    "lenVar": 40
   },
   "kernels_config": {
    "python": {
     "delete_cmd_postfix": "",
     "delete_cmd_prefix": "del ",
     "library": "var_list.py",
     "varRefreshCmd": "print(var_dic_list())"
    },
    "r": {
     "delete_cmd_postfix": ") ",
     "delete_cmd_prefix": "rm(",
     "library": "var_list.r",
     "varRefreshCmd": "cat(var_dic_list()) "
    }
   },
   "types_to_exclude": [
    "module",
    "function",
    "builtin_function_or_method",
    "instance",
    "_Feature"
   ],
   "window_display": false
  }
 },
 "nbformat": 4,
 "nbformat_minor": 2
}
