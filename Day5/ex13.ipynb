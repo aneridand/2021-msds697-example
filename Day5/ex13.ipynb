{
 "cells": [
  {
   "cell_type": "code",
   "execution_count": 1,
   "metadata": {
    "ExecuteTime": {
     "end_time": "2021-01-11T06:23:13.132472Z",
     "start_time": "2021-01-11T06:23:10.229298Z"
    }
   },
   "outputs": [],
   "source": [
    "from pyspark import SparkContext\n",
    "sc = SparkContext.getOrCreate()"
   ]
  },
  {
   "cell_type": "markdown",
   "metadata": {},
   "source": [
    "### Create RDDs for stations, and status"
   ]
  },
  {
   "cell_type": "code",
   "execution_count": 2,
   "metadata": {
    "ExecuteTime": {
     "end_time": "2021-01-11T06:23:14.390632Z",
     "start_time": "2021-01-11T06:23:13.134865Z"
    }
   },
   "outputs": [],
   "source": [
    "# station_id, num_bikes_available, num_docks_available, time\n",
    "stations = sc.textFile('../Data/bike_share/stations.csv')"
   ]
  },
  {
   "cell_type": "code",
   "execution_count": 3,
   "metadata": {
    "ExecuteTime": {
     "end_time": "2021-01-11T06:23:14.423450Z",
     "start_time": "2021-01-11T06:23:14.392067Z"
    }
   },
   "outputs": [],
   "source": [
    "# station_id, name, lat, lon, total_num_dock, city, station_installed_date\n",
    "status = sc.textFile('../Data/bike_share/status_million.csv')"
   ]
  },
  {
   "cell_type": "code",
   "execution_count": 4,
   "metadata": {
    "ExecuteTime": {
     "end_time": "2021-01-11T06:23:14.477622Z",
     "start_time": "2021-01-11T06:23:14.424924Z"
    }
   },
   "outputs": [],
   "source": [
    "stations = stations.map(lambda x : x.split(\",\")).map(lambda x : (x[0], x)).partitionBy(10)"
   ]
  },
  {
   "cell_type": "code",
   "execution_count": 5,
   "metadata": {
    "ExecuteTime": {
     "end_time": "2021-01-11T06:23:14.493313Z",
     "start_time": "2021-01-11T06:23:14.479103Z"
    }
   },
   "outputs": [],
   "source": [
    "status = status.map(lambda x : x.split(\",\")).map(lambda x : (x[0],x)).partitionBy(10)"
   ]
  },
  {
   "cell_type": "markdown",
   "metadata": {},
   "source": [
    "### Join two RDDs"
   ]
  },
  {
   "cell_type": "code",
   "execution_count": 6,
   "metadata": {
    "ExecuteTime": {
     "end_time": "2021-01-11T06:23:26.799222Z",
     "start_time": "2021-01-11T06:23:14.494723Z"
    }
   },
   "outputs": [],
   "source": [
    "from time import time\n",
    "start = time()\n",
    "station_and_status = stations.join(status)\\\n",
    "                             .map(lambda x: (x[1][1][3], x[1][0][1], x[1][1][1], x[1][1][2]))\\\n",
    "                             .filter(lambda x: x[1] == 'San Jose City Hall')\\\n",
    "                             .sortBy(lambda x: x[0])\\\n",
    "                             .collect()  # Trigger an action\n",
    "#print(station_and_status)"
   ]
  },
  {
   "cell_type": "code",
   "execution_count": 7,
   "metadata": {
    "ExecuteTime": {
     "end_time": "2021-01-11T06:23:26.805036Z",
     "start_time": "2021-01-11T06:23:26.802373Z"
    }
   },
   "outputs": [
    {
     "name": "stdout",
     "output_type": "stream",
     "text": [
      "12.306753158569336\n"
     ]
    }
   ],
   "source": [
    "print(time() - start)"
   ]
  },
  {
   "cell_type": "code",
   "execution_count": 8,
   "metadata": {
    "ExecuteTime": {
     "end_time": "2021-01-11T06:23:27.638881Z",
     "start_time": "2021-01-11T06:23:26.807302Z"
    }
   },
   "outputs": [],
   "source": [
    "sc.stop()"
   ]
  },
  {
   "cell_type": "code",
   "execution_count": null,
   "metadata": {},
   "outputs": [],
   "source": []
  }
 ],
 "metadata": {
  "anaconda-cloud": {},
  "kernelspec": {
   "display_name": "Python 3",
   "language": "python",
   "name": "python3"
  },
  "language_info": {
   "codemirror_mode": {
    "name": "ipython",
    "version": 3
   },
   "file_extension": ".py",
   "mimetype": "text/x-python",
   "name": "python",
   "nbconvert_exporter": "python",
   "pygments_lexer": "ipython3",
   "version": "3.8.2"
  },
  "varInspector": {
   "cols": {
    "lenName": 16,
    "lenType": 16,
    "lenVar": 40
   },
   "kernels_config": {
    "python": {
     "delete_cmd_postfix": "",
     "delete_cmd_prefix": "del ",
     "library": "var_list.py",
     "varRefreshCmd": "print(var_dic_list())"
    },
    "r": {
     "delete_cmd_postfix": ") ",
     "delete_cmd_prefix": "rm(",
     "library": "var_list.r",
     "varRefreshCmd": "cat(var_dic_list()) "
    }
   },
   "types_to_exclude": [
    "module",
    "function",
    "builtin_function_or_method",
    "instance",
    "_Feature"
   ],
   "window_display": false
  }
 },
 "nbformat": 4,
 "nbformat_minor": 2
}
