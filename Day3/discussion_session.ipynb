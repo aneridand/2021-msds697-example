{
 "cells": [
  {
   "cell_type": "code",
   "execution_count": 2,
   "metadata": {
    "ExecuteTime": {
     "end_time": "2021-01-12T09:37:45.766675Z",
     "start_time": "2021-01-12T09:37:44.698038Z"
    }
   },
   "outputs": [],
   "source": [
    "from pyspark import SparkContext"
   ]
  },
  {
   "cell_type": "code",
   "execution_count": 3,
   "metadata": {
    "ExecuteTime": {
     "end_time": "2021-01-12T09:38:01.739033Z",
     "start_time": "2021-01-12T09:37:57.765429Z"
    }
   },
   "outputs": [],
   "source": [
    "sc = SparkContext().getOrCreate()"
   ]
  },
  {
   "cell_type": "markdown",
   "metadata": {},
   "source": [
    "## Create business  RDD using \"../Data/filtered_registered_business_sf.csv\""
   ]
  },
  {
   "cell_type": "code",
   "execution_count": 4,
   "metadata": {
    "ExecuteTime": {
     "end_time": "2021-01-12T09:38:28.336004Z",
     "start_time": "2021-01-12T09:38:27.619937Z"
    }
   },
   "outputs": [],
   "source": [
    "business = sc.textFile(\"../Data/filtered_registered_business_sf.csv\")"
   ]
  },
  {
   "cell_type": "code",
   "execution_count": 8,
   "metadata": {
    "ExecuteTime": {
     "end_time": "2021-01-12T09:40:00.509691Z",
     "start_time": "2021-01-12T09:40:00.475587Z"
    }
   },
   "outputs": [
    {
     "data": {
      "text/plain": [
       "'94123,Tournahu George L,3301 Broderick St,San Francisco,CA'"
      ]
     },
     "execution_count": 8,
     "metadata": {},
     "output_type": "execute_result"
    }
   ],
   "source": [
    "business.first()"
   ]
  },
  {
   "cell_type": "markdown",
   "metadata": {},
   "source": [
    "## If you separate the lines by commas, how many fields are in each line?"
   ]
  },
  {
   "cell_type": "code",
   "execution_count": 7,
   "metadata": {
    "ExecuteTime": {
     "end_time": "2021-01-12T09:39:41.097743Z",
     "start_time": "2021-01-12T09:39:40.533685Z"
    }
   },
   "outputs": [
    {
     "data": {
      "text/plain": [
       "[6, 8, 5, 7, 9, 11, 13]"
      ]
     },
     "execution_count": 7,
     "metadata": {},
     "output_type": "execute_result"
    }
   ],
   "source": [
    "business.map(lambda x : len(x.split(','))).distinct().collect()"
   ]
  },
  {
   "cell_type": "markdown",
   "metadata": {},
   "source": [
    "## Create supervisor RDD using \"../Data/supervisor_sf.csv\""
   ]
  },
  {
   "cell_type": "code",
   "execution_count": 11,
   "metadata": {
    "ExecuteTime": {
     "end_time": "2021-01-12T09:43:25.965746Z",
     "start_time": "2021-01-12T09:43:25.940771Z"
    }
   },
   "outputs": [],
   "source": [
    "supervisor = sc.textFile(\"../Data/supervisor_sf.csv\")"
   ]
  },
  {
   "cell_type": "code",
   "execution_count": 12,
   "metadata": {
    "ExecuteTime": {
     "end_time": "2021-01-12T09:43:32.374884Z",
     "start_time": "2021-01-12T09:43:32.341920Z"
    }
   },
   "outputs": [
    {
     "data": {
      "text/plain": [
       "'94102,8'"
      ]
     },
     "execution_count": 12,
     "metadata": {},
     "output_type": "execute_result"
    }
   ],
   "source": [
    "supervisor.first()"
   ]
  },
  {
   "cell_type": "markdown",
   "metadata": {},
   "source": [
    "## Return the number of zip code that are common in both RDDs"
   ]
  },
  {
   "cell_type": "code",
   "execution_count": 13,
   "metadata": {
    "ExecuteTime": {
     "end_time": "2021-01-12T09:44:17.688987Z",
     "start_time": "2021-01-12T09:44:17.671018Z"
    }
   },
   "outputs": [],
   "source": [
    "busienss_zip = business.map(lambda x : x.split(',')[0]).distinct()"
   ]
  },
  {
   "cell_type": "code",
   "execution_count": 17,
   "metadata": {
    "ExecuteTime": {
     "end_time": "2021-01-12T09:45:30.564953Z",
     "start_time": "2021-01-12T09:45:30.530869Z"
    }
   },
   "outputs": [
    {
     "data": {
      "text/plain": [
       "3264"
      ]
     },
     "execution_count": 17,
     "metadata": {},
     "output_type": "execute_result"
    }
   ],
   "source": [
    "busienss_zip.count()"
   ]
  },
  {
   "cell_type": "code",
   "execution_count": 14,
   "metadata": {
    "ExecuteTime": {
     "end_time": "2021-01-12T09:45:05.981445Z",
     "start_time": "2021-01-12T09:45:05.964667Z"
    }
   },
   "outputs": [],
   "source": [
    "supervisor_zip = supervisor.map(lambda x : x.split(',')[0]).distinct()"
   ]
  },
  {
   "cell_type": "code",
   "execution_count": 19,
   "metadata": {
    "ExecuteTime": {
     "end_time": "2021-01-12T09:45:41.209992Z",
     "start_time": "2021-01-12T09:45:41.172655Z"
    }
   },
   "outputs": [
    {
     "data": {
      "text/plain": [
       "27"
      ]
     },
     "execution_count": 19,
     "metadata": {},
     "output_type": "execute_result"
    }
   ],
   "source": [
    "supervisor_zip.count()"
   ]
  },
  {
   "cell_type": "code",
   "execution_count": 16,
   "metadata": {
    "ExecuteTime": {
     "end_time": "2021-01-12T09:45:22.475469Z",
     "start_time": "2021-01-12T09:45:22.346791Z"
    }
   },
   "outputs": [
    {
     "data": {
      "text/plain": [
       "27"
      ]
     },
     "execution_count": 16,
     "metadata": {},
     "output_type": "execute_result"
    }
   ],
   "source": [
    "busienss_zip.intersection(supervisor_zip).count()"
   ]
  },
  {
   "cell_type": "markdown",
   "metadata": {},
   "source": [
    "## What are those? (Sort them in ascending order)"
   ]
  },
  {
   "cell_type": "code",
   "execution_count": 20,
   "metadata": {
    "ExecuteTime": {
     "end_time": "2021-01-12T09:49:53.878597Z",
     "start_time": "2021-01-12T09:49:52.461986Z"
    }
   },
   "outputs": [
    {
     "data": {
      "text/plain": [
       "['94102',\n",
       " '94103',\n",
       " '94104',\n",
       " '94105',\n",
       " '94107',\n",
       " '94108',\n",
       " '94109',\n",
       " '94110',\n",
       " '94111',\n",
       " '94112',\n",
       " '94114',\n",
       " '94115',\n",
       " '94116',\n",
       " '94117',\n",
       " '94118',\n",
       " '94121',\n",
       " '94122',\n",
       " '94123',\n",
       " '94124',\n",
       " '94127',\n",
       " '94129',\n",
       " '94130',\n",
       " '94131',\n",
       " '94132',\n",
       " '94133',\n",
       " '94134',\n",
       " '94158']"
      ]
     },
     "execution_count": 20,
     "metadata": {},
     "output_type": "execute_result"
    }
   ],
   "source": [
    "busienss_zip.intersection(supervisor_zip).sortBy(lambda x:x).collect()"
   ]
  },
  {
   "cell_type": "code",
   "execution_count": null,
   "metadata": {},
   "outputs": [],
   "source": []
  }
 ],
 "metadata": {
  "kernelspec": {
   "display_name": "Python 3",
   "language": "python",
   "name": "python3"
  },
  "language_info": {
   "codemirror_mode": {
    "name": "ipython",
    "version": 3
   },
   "file_extension": ".py",
   "mimetype": "text/x-python",
   "name": "python",
   "nbconvert_exporter": "python",
   "pygments_lexer": "ipython3",
   "version": "3.8.2"
  }
 },
 "nbformat": 4,
 "nbformat_minor": 4
}
