{
 "cells": [
  {
   "cell_type": "code",
   "execution_count": 1,
   "metadata": {
    "ExecuteTime": {
     "end_time": "2021-01-08T14:17:22.491164Z",
     "start_time": "2021-01-08T14:17:19.234925Z"
    }
   },
   "outputs": [],
   "source": [
    "from pyspark import SparkContext\n",
    "sc = SparkContext.getOrCreate()"
   ]
  },
  {
   "cell_type": "markdown",
   "metadata": {},
   "source": [
    "## Load business and supervisor data"
   ]
  },
  {
   "cell_type": "code",
   "execution_count": 2,
   "metadata": {
    "ExecuteTime": {
     "end_time": "2021-01-08T14:17:23.375280Z",
     "start_time": "2021-01-08T14:17:22.493373Z"
    }
   },
   "outputs": [],
   "source": [
    "business = sc.textFile(\"../Data/filtered_registered_business_sf.csv\")\n",
    "business_zip_name_pair = business.map(lambda x : x.split(\",\"))\\\n",
    "                                .map(lambda x : (x[0],x[1])).distinct()"
   ]
  },
  {
   "cell_type": "code",
   "execution_count": 3,
   "metadata": {
    "ExecuteTime": {
     "end_time": "2021-01-08T14:17:23.425383Z",
     "start_time": "2021-01-08T14:17:23.377841Z"
    }
   },
   "outputs": [],
   "source": [
    "supervisor = sc.textFile(\"../Data/supervisor_sf.csv\")\n",
    "supervisor_zip_id_pair = supervisor.map(lambda x : x.split(\",\"))\\\n",
    "                                   .map(lambda x : (x[0],x[1])).distinct()"
   ]
  },
  {
   "cell_type": "code",
   "execution_count": 4,
   "metadata": {
    "ExecuteTime": {
     "end_time": "2021-01-08T14:17:25.541538Z",
     "start_time": "2021-01-08T14:17:23.427415Z"
    }
   },
   "outputs": [
    {
     "data": {
      "text/plain": [
       "[('94124', 'Stephens Institute Inc'),\n",
       " ('94108', 'Stephens Institute Inc'),\n",
       " ('94102', 'Stephens Institute Inc'),\n",
       " ('94133', 'Stephens Institute Inc'),\n",
       " ('94111', 'Stephens Institute Inc')]"
      ]
     },
     "execution_count": 4,
     "metadata": {},
     "output_type": "execute_result"
    }
   ],
   "source": [
    "business_zip_name_pair.take(5)"
   ]
  },
  {
   "cell_type": "code",
   "execution_count": 5,
   "metadata": {
    "ExecuteTime": {
     "end_time": "2021-01-08T14:17:25.622086Z",
     "start_time": "2021-01-08T14:17:25.543261Z"
    }
   },
   "outputs": [
    {
     "data": {
      "text/plain": [
       "[('94102', '8'),\n",
       " ('94103', '6'),\n",
       " ('94103', '3'),\n",
       " ('94103', '5'),\n",
       " ('94105', '6')]"
      ]
     },
     "execution_count": 5,
     "metadata": {},
     "output_type": "execute_result"
    }
   ],
   "source": [
    "supervisor_zip_id_pair.take(5)"
   ]
  },
  {
   "cell_type": "markdown",
   "metadata": {},
   "source": [
    "## Calculate the number of business without an advisor assigned to."
   ]
  },
  {
   "cell_type": "code",
   "execution_count": 6,
   "metadata": {
    "ExecuteTime": {
     "end_time": "2021-01-08T14:17:25.672737Z",
     "start_time": "2021-01-08T14:17:25.624153Z"
    }
   },
   "outputs": [
    {
     "data": {
      "text/plain": [
       "PythonRDD[21] at RDD at PythonRDD.scala:53"
      ]
     },
     "execution_count": 6,
     "metadata": {},
     "output_type": "execute_result"
    }
   ],
   "source": [
    "business_zip_name_pair.subtractByKey(supervisor_zip_id_pair)"
   ]
  },
  {
   "cell_type": "code",
   "execution_count": 7,
   "metadata": {
    "ExecuteTime": {
     "end_time": "2021-01-08T14:17:25.701809Z",
     "start_time": "2021-01-08T14:17:25.674229Z"
    }
   },
   "outputs": [],
   "source": [
    "business_without_supervisor = business_zip_name_pair.subtractByKey(supervisor_zip_id_pair)\\\n",
    "                                                    .values()"
   ]
  },
  {
   "cell_type": "code",
   "execution_count": 8,
   "metadata": {
    "ExecuteTime": {
     "end_time": "2021-01-08T14:17:26.160032Z",
     "start_time": "2021-01-08T14:17:25.704642Z"
    }
   },
   "outputs": [
    {
     "data": {
      "text/plain": [
       "41142"
      ]
     },
     "execution_count": 8,
     "metadata": {},
     "output_type": "execute_result"
    }
   ],
   "source": [
    "business_without_supervisor.count()"
   ]
  },
  {
   "cell_type": "code",
   "execution_count": 9,
   "metadata": {
    "ExecuteTime": {
     "end_time": "2021-01-08T14:17:26.215874Z",
     "start_time": "2021-01-08T14:17:26.162125Z"
    }
   },
   "outputs": [
    {
     "data": {
      "text/plain": [
       "['Brayer Electric Co',\n",
       " 'Caltool Indstl Supply Co Inc',\n",
       " 'Seven-Up Bottling Co Of Sf',\n",
       " 'Anderson Eric F Inc',\n",
       " 'Kegg Terry',\n",
       " 'R. S. Hughes Company Inc',\n",
       " 'Ransome Company',\n",
       " 'Bowen H A Electric Inc',\n",
       " 'Johnson Western Gunite Co Inc',\n",
       " 'Carrier Corporation']"
      ]
     },
     "execution_count": 9,
     "metadata": {},
     "output_type": "execute_result"
    }
   ],
   "source": [
    "business_without_supervisor.take(10)"
   ]
  },
  {
   "cell_type": "code",
   "execution_count": 10,
   "metadata": {
    "ExecuteTime": {
     "end_time": "2021-01-08T14:17:27.215096Z",
     "start_time": "2021-01-08T14:17:26.217707Z"
    }
   },
   "outputs": [],
   "source": [
    "sc.stop()"
   ]
  }
 ],
 "metadata": {
  "anaconda-cloud": {},
  "kernelspec": {
   "display_name": "Python 3",
   "language": "python",
   "name": "python3"
  },
  "language_info": {
   "codemirror_mode": {
    "name": "ipython",
    "version": 3
   },
   "file_extension": ".py",
   "mimetype": "text/x-python",
   "name": "python",
   "nbconvert_exporter": "python",
   "pygments_lexer": "ipython3",
   "version": "3.8.2"
  },
  "varInspector": {
   "cols": {
    "lenName": 16,
    "lenType": 16,
    "lenVar": 40
   },
   "kernels_config": {
    "python": {
     "delete_cmd_postfix": "",
     "delete_cmd_prefix": "del ",
     "library": "var_list.py",
     "varRefreshCmd": "print(var_dic_list())"
    },
    "r": {
     "delete_cmd_postfix": ") ",
     "delete_cmd_prefix": "rm(",
     "library": "var_list.r",
     "varRefreshCmd": "cat(var_dic_list()) "
    }
   },
   "types_to_exclude": [
    "module",
    "function",
    "builtin_function_or_method",
    "instance",
    "_Feature"
   ],
   "window_display": false
  }
 },
 "nbformat": 4,
 "nbformat_minor": 2
}
