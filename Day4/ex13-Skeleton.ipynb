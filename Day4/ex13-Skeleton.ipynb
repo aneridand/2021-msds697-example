{
 "cells": [
  {
   "cell_type": "code",
   "execution_count": null,
   "metadata": {
    "ExecuteTime": {
     "end_time": "2021-01-08T14:19:43.673975Z",
     "start_time": "2021-01-08T14:19:40.433728Z"
    }
   },
   "outputs": [],
   "source": [
    "from pyspark import SparkContext\n",
    "sc = SparkContext.getOrCreate()"
   ]
  },
  {
   "cell_type": "markdown",
   "metadata": {},
   "source": [
    "## Load business and supervisor data"
   ]
  },
  {
   "cell_type": "code",
   "execution_count": null,
   "metadata": {
    "ExecuteTime": {
     "end_time": "2021-01-08T14:19:44.568326Z",
     "start_time": "2021-01-08T14:19:43.676359Z"
    }
   },
   "outputs": [],
   "source": [
    "business = sc.textFile(\"../Data/filtered_registered_business_sf.csv\")\n",
    "business_zip_name_pair = business.map(lambda x : x.split(\",\"))\\\n",
    "                                .map(lambda x : (x[0],x[1])).distinct()"
   ]
  },
  {
   "cell_type": "code",
   "execution_count": null,
   "metadata": {
    "ExecuteTime": {
     "end_time": "2021-01-08T14:19:44.570147Z",
     "start_time": "2021-01-08T14:19:42.572Z"
    }
   },
   "outputs": [],
   "source": [
    "supervisor = sc.textFile(\"../Data/supervisor_sf.csv\")\n",
    "supervisor_zip_id_pair = supervisor.map(lambda x : x.split(\",\"))\\\n",
    "                                   .map(lambda x : (x[0],x[1])).distinct()"
   ]
  },
  {
   "cell_type": "code",
   "execution_count": null,
   "metadata": {
    "ExecuteTime": {
     "end_time": "2021-01-08T14:19:44.571251Z",
     "start_time": "2021-01-08T14:19:43.060Z"
    }
   },
   "outputs": [],
   "source": [
    "business_zip_name_pair.take(5)"
   ]
  },
  {
   "cell_type": "code",
   "execution_count": null,
   "metadata": {
    "ExecuteTime": {
     "end_time": "2021-01-08T14:19:44.572794Z",
     "start_time": "2021-01-08T14:19:43.548Z"
    }
   },
   "outputs": [],
   "source": [
    "supervisor_zip_id_pair.take(5)"
   ]
  },
  {
   "cell_type": "markdown",
   "metadata": {},
   "source": [
    "## Create pairs of business and supervisor id if both exists."
   ]
  },
  {
   "cell_type": "code",
   "execution_count": null,
   "metadata": {},
   "outputs": [],
   "source": []
  },
  {
   "cell_type": "markdown",
   "metadata": {},
   "source": [
    "## Create pairs of business and supervisor id for all the business (although it may not have a district supervisor)"
   ]
  },
  {
   "cell_type": "code",
   "execution_count": null,
   "metadata": {},
   "outputs": [],
   "source": []
  },
  {
   "cell_type": "markdown",
   "metadata": {
    "collapsed": true
   },
   "source": [
    "## Create pairs of business and supervisor id if a supervisor exists (although it may not have a business supervised by the supervisor)."
   ]
  },
  {
   "cell_type": "code",
   "execution_count": null,
   "metadata": {},
   "outputs": [],
   "source": []
  }
 ],
 "metadata": {
  "anaconda-cloud": {},
  "kernelspec": {
   "display_name": "Python 3",
   "language": "python",
   "name": "python3"
  },
  "language_info": {
   "codemirror_mode": {
    "name": "ipython",
    "version": 3
   },
   "file_extension": ".py",
   "mimetype": "text/x-python",
   "name": "python",
   "nbconvert_exporter": "python",
   "pygments_lexer": "ipython3",
   "version": "3.8.2"
  },
  "varInspector": {
   "cols": {
    "lenName": 16,
    "lenType": 16,
    "lenVar": 40
   },
   "kernels_config": {
    "python": {
     "delete_cmd_postfix": "",
     "delete_cmd_prefix": "del ",
     "library": "var_list.py",
     "varRefreshCmd": "print(var_dic_list())"
    },
    "r": {
     "delete_cmd_postfix": ") ",
     "delete_cmd_prefix": "rm(",
     "library": "var_list.r",
     "varRefreshCmd": "cat(var_dic_list()) "
    }
   },
   "types_to_exclude": [
    "module",
    "function",
    "builtin_function_or_method",
    "instance",
    "_Feature"
   ],
   "window_display": false
  }
 },
 "nbformat": 4,
 "nbformat_minor": 2
}
