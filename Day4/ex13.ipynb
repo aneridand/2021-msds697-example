{
 "cells": [
  {
   "cell_type": "code",
   "execution_count": 1,
   "metadata": {
    "ExecuteTime": {
     "end_time": "2021-01-08T14:23:26.338519Z",
     "start_time": "2021-01-08T14:23:23.180949Z"
    }
   },
   "outputs": [],
   "source": [
    "from pyspark import SparkContext\n",
    "sc = SparkContext.getOrCreate()"
   ]
  },
  {
   "cell_type": "markdown",
   "metadata": {},
   "source": [
    "## Load business and supervisor data"
   ]
  },
  {
   "cell_type": "code",
   "execution_count": 2,
   "metadata": {
    "ExecuteTime": {
     "end_time": "2021-01-08T14:23:27.131895Z",
     "start_time": "2021-01-08T14:23:26.340618Z"
    }
   },
   "outputs": [],
   "source": [
    "business = sc.textFile(\"../Data/filtered_registered_business_sf.csv\")\n",
    "business_zip_name_pair = business.map(lambda x : x.split(\",\"))\\\n",
    "                                .map(lambda x : (x[0],x[1])).distinct()"
   ]
  },
  {
   "cell_type": "code",
   "execution_count": 3,
   "metadata": {
    "ExecuteTime": {
     "end_time": "2021-01-08T14:23:27.182413Z",
     "start_time": "2021-01-08T14:23:27.134068Z"
    }
   },
   "outputs": [],
   "source": [
    "supervisor = sc.textFile(\"../Data/supervisor_sf.csv\")\n",
    "supervisor_zip_id_pair = supervisor.map(lambda x : x.split(\",\"))\\\n",
    "                                   .map(lambda x : (x[0],x[1])).distinct()"
   ]
  },
  {
   "cell_type": "code",
   "execution_count": 4,
   "metadata": {
    "ExecuteTime": {
     "end_time": "2021-01-08T14:23:29.321825Z",
     "start_time": "2021-01-08T14:23:27.184732Z"
    }
   },
   "outputs": [
    {
     "data": {
      "text/plain": [
       "[('94124', 'Stephens Institute Inc'),\n",
       " ('94108', 'Stephens Institute Inc'),\n",
       " ('94102', 'Stephens Institute Inc'),\n",
       " ('94133', 'Stephens Institute Inc'),\n",
       " ('94111', 'Stephens Institute Inc')]"
      ]
     },
     "execution_count": 4,
     "metadata": {},
     "output_type": "execute_result"
    }
   ],
   "source": [
    "business_zip_name_pair.take(5)"
   ]
  },
  {
   "cell_type": "code",
   "execution_count": 5,
   "metadata": {
    "ExecuteTime": {
     "end_time": "2021-01-08T14:23:29.417900Z",
     "start_time": "2021-01-08T14:23:29.323890Z"
    }
   },
   "outputs": [
    {
     "data": {
      "text/plain": [
       "[('94102', '8'),\n",
       " ('94103', '6'),\n",
       " ('94103', '3'),\n",
       " ('94103', '5'),\n",
       " ('94105', '6')]"
      ]
     },
     "execution_count": 5,
     "metadata": {},
     "output_type": "execute_result"
    }
   ],
   "source": [
    "supervisor_zip_id_pair.take(5)"
   ]
  },
  {
   "cell_type": "markdown",
   "metadata": {},
   "source": [
    "## Create pairs of business and supervisor id if both exists."
   ]
  },
  {
   "cell_type": "code",
   "execution_count": 6,
   "metadata": {
    "ExecuteTime": {
     "end_time": "2021-01-08T14:23:29.467629Z",
     "start_time": "2021-01-08T14:23:29.419119Z"
    }
   },
   "outputs": [
    {
     "data": {
      "text/plain": [
       "PythonRDD[21] at RDD at PythonRDD.scala:53"
      ]
     },
     "execution_count": 6,
     "metadata": {},
     "output_type": "execute_result"
    }
   ],
   "source": [
    "business_zip_name_pair.join(supervisor_zip_id_pair)"
   ]
  },
  {
   "cell_type": "code",
   "execution_count": 7,
   "metadata": {
    "ExecuteTime": {
     "end_time": "2021-01-08T14:23:29.514219Z",
     "start_time": "2021-01-08T14:23:29.469089Z"
    }
   },
   "outputs": [],
   "source": [
    "business_supervisor = business_zip_name_pair.join(supervisor_zip_id_pair)\\\n",
    "                                            .values()\\\n",
    "                                            .distinct()"
   ]
  },
  {
   "cell_type": "code",
   "execution_count": 8,
   "metadata": {
    "ExecuteTime": {
     "end_time": "2021-01-08T14:23:31.089177Z",
     "start_time": "2021-01-08T14:23:29.517636Z"
    }
   },
   "outputs": [
    {
     "data": {
      "text/plain": [
       "377612"
      ]
     },
     "execution_count": 8,
     "metadata": {},
     "output_type": "execute_result"
    }
   ],
   "source": [
    "business_supervisor.count() "
   ]
  },
  {
   "cell_type": "code",
   "execution_count": 9,
   "metadata": {
    "ExecuteTime": {
     "end_time": "2021-01-08T14:23:31.206288Z",
     "start_time": "2021-01-08T14:23:31.091183Z"
    }
   },
   "outputs": [
    {
     "data": {
      "text/plain": [
       "[('Stephens Institute Inc', '8'),\n",
       " ('Cal Parlor Car Tours Inc', '8'),\n",
       " ('D & R Plumbing & Heating Inc', '8'),\n",
       " ('Jones Schiller & Company Llp', '8'),\n",
       " ('Dudum Basim & Adib', '8')]"
      ]
     },
     "execution_count": 9,
     "metadata": {},
     "output_type": "execute_result"
    }
   ],
   "source": [
    "business_supervisor.take(5)"
   ]
  },
  {
   "cell_type": "markdown",
   "metadata": {},
   "source": [
    "## Create pairs of business and supervisor id for all the business (although it may not have a district supervisor)"
   ]
  },
  {
   "cell_type": "code",
   "execution_count": 10,
   "metadata": {
    "ExecuteTime": {
     "end_time": "2021-01-06T22:18:15.526444Z",
     "start_time": "2021-01-06T22:18:15.481809Z"
    }
   },
   "outputs": [
    {
     "data": {
      "text/plain": [
       "PythonRDD[42] at RDD at PythonRDD.scala:53"
      ]
     },
     "execution_count": 10,
     "metadata": {},
     "output_type": "execute_result"
    }
   ],
   "source": [
    "business_zip_name_pair.leftOuterJoin(supervisor_zip_id_pair)"
   ]
  },
  {
   "cell_type": "code",
   "execution_count": 11,
   "metadata": {
    "ExecuteTime": {
     "end_time": "2021-01-06T22:18:15.570307Z",
     "start_time": "2021-01-06T22:18:15.527826Z"
    }
   },
   "outputs": [],
   "source": [
    "business_supervisor = business_zip_name_pair.leftOuterJoin(supervisor_zip_id_pair)\\\n",
    "                                            .values()\\\n",
    "                                            .distinct()"
   ]
  },
  {
   "cell_type": "code",
   "execution_count": 12,
   "metadata": {
    "ExecuteTime": {
     "end_time": "2021-01-06T22:18:17.026457Z",
     "start_time": "2021-01-06T22:18:15.571732Z"
    }
   },
   "outputs": [
    {
     "data": {
      "text/plain": [
       "417034"
      ]
     },
     "execution_count": 12,
     "metadata": {},
     "output_type": "execute_result"
    }
   ],
   "source": [
    "business_supervisor.count()"
   ]
  },
  {
   "cell_type": "markdown",
   "metadata": {
    "collapsed": true
   },
   "source": [
    "## Create pairs of business and supervisor id if a supervisor exists (although it may not have a business supervised by the supervisor)."
   ]
  },
  {
   "cell_type": "code",
   "execution_count": 13,
   "metadata": {
    "ExecuteTime": {
     "end_time": "2021-01-06T22:18:17.065084Z",
     "start_time": "2021-01-06T22:18:17.028022Z"
    }
   },
   "outputs": [
    {
     "data": {
      "text/plain": [
       "PythonRDD[62] at RDD at PythonRDD.scala:53"
      ]
     },
     "execution_count": 13,
     "metadata": {},
     "output_type": "execute_result"
    }
   ],
   "source": [
    "business_zip_name_pair.rightOuterJoin(supervisor_zip_id_pair)"
   ]
  },
  {
   "cell_type": "code",
   "execution_count": 14,
   "metadata": {
    "ExecuteTime": {
     "end_time": "2021-01-06T22:18:17.104534Z",
     "start_time": "2021-01-06T22:18:17.066929Z"
    }
   },
   "outputs": [],
   "source": [
    "business_supervisor = business_zip_name_pair.rightOuterJoin(supervisor_zip_id_pair)\\\n",
    "                                            .values()\\\n",
    "                                            .distinct()"
   ]
  },
  {
   "cell_type": "code",
   "execution_count": 15,
   "metadata": {
    "ExecuteTime": {
     "end_time": "2021-01-06T22:18:18.528708Z",
     "start_time": "2021-01-06T22:18:17.105921Z"
    }
   },
   "outputs": [
    {
     "data": {
      "text/plain": [
       "377612"
      ]
     },
     "execution_count": 15,
     "metadata": {},
     "output_type": "execute_result"
    }
   ],
   "source": [
    "business_supervisor.count()"
   ]
  },
  {
   "cell_type": "code",
   "execution_count": 16,
   "metadata": {
    "ExecuteTime": {
     "end_time": "2021-01-06T22:18:24.542590Z",
     "start_time": "2021-01-06T22:18:24.357203Z"
    }
   },
   "outputs": [],
   "source": [
    "sc.stop()"
   ]
  },
  {
   "cell_type": "code",
   "execution_count": null,
   "metadata": {},
   "outputs": [],
   "source": []
  }
 ],
 "metadata": {
  "anaconda-cloud": {},
  "kernelspec": {
   "display_name": "Python 3",
   "language": "python",
   "name": "python3"
  },
  "language_info": {
   "codemirror_mode": {
    "name": "ipython",
    "version": 3
   },
   "file_extension": ".py",
   "mimetype": "text/x-python",
   "name": "python",
   "nbconvert_exporter": "python",
   "pygments_lexer": "ipython3",
   "version": "3.8.2"
  },
  "varInspector": {
   "cols": {
    "lenName": 16,
    "lenType": 16,
    "lenVar": 40
   },
   "kernels_config": {
    "python": {
     "delete_cmd_postfix": "",
     "delete_cmd_prefix": "del ",
     "library": "var_list.py",
     "varRefreshCmd": "print(var_dic_list())"
    },
    "r": {
     "delete_cmd_postfix": ") ",
     "delete_cmd_prefix": "rm(",
     "library": "var_list.r",
     "varRefreshCmd": "cat(var_dic_list()) "
    }
   },
   "types_to_exclude": [
    "module",
    "function",
    "builtin_function_or_method",
    "instance",
    "_Feature"
   ],
   "window_display": false
  }
 },
 "nbformat": 4,
 "nbformat_minor": 2
}
