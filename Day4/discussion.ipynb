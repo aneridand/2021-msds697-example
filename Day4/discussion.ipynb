{
 "cells": [
  {
   "cell_type": "code",
   "execution_count": 1,
   "metadata": {
    "ExecuteTime": {
     "end_time": "2021-01-14T15:28:58.972453Z",
     "start_time": "2021-01-14T15:28:56.618691Z"
    }
   },
   "outputs": [],
   "source": [
    "from pyspark import SparkContext\n",
    "sc = SparkContext.getOrCreate()"
   ]
  },
  {
   "cell_type": "code",
   "execution_count": 2,
   "metadata": {
    "ExecuteTime": {
     "end_time": "2021-01-14T15:30:04.220962Z",
     "start_time": "2021-01-14T15:30:04.219020Z"
    }
   },
   "outputs": [],
   "source": [
    "schedule_file = '../Data/FoodTruck_Schedule/Mobile_Food_Schedule.csv'\n",
    "day_file = '../Data/FoodTruck_Schedule/Day_Num_String.csv'"
   ]
  },
  {
   "cell_type": "code",
   "execution_count": 7,
   "metadata": {
    "ExecuteTime": {
     "end_time": "2021-01-14T15:30:58.597308Z",
     "start_time": "2021-01-14T15:30:58.497784Z"
    }
   },
   "outputs": [],
   "source": [
    "schedule = sc.textFile(schedule_file)\\\n",
    "             .distinct()\\\n",
    "             .map(lambda x: x.split(\",\"))\\\n",
    "             .map(lambda x: (x[0], x[1:]))\n",
    "days = sc.textFile(day_file)\\\n",
    "         .map(lambda x: x.split(\",\"))\\\n",
    "         .map(lambda x: (x[0], x[1]))"
   ]
  },
  {
   "cell_type": "markdown",
   "metadata": {},
   "source": [
    "## For schedule, instead of numeric value, use string in Day_Num_String.csv for representing days of the week "
   ]
  },
  {
   "cell_type": "code",
   "execution_count": 48,
   "metadata": {
    "ExecuteTime": {
     "end_time": "2021-01-14T15:40:17.040003Z",
     "start_time": "2021-01-14T15:40:17.016673Z"
    }
   },
   "outputs": [],
   "source": [
    "schedule_days_string = days.join(schedule).values().map(lambda x : (x[0], x[1]))"
   ]
  },
  {
   "cell_type": "code",
   "execution_count": 49,
   "metadata": {
    "ExecuteTime": {
     "end_time": "2021-01-14T15:40:17.515399Z",
     "start_time": "2021-01-14T15:40:17.353954Z"
    }
   },
   "outputs": [
    {
     "data": {
      "text/plain": [
       "('Thursday',\n",
       " ['10AM',\n",
       "  '12PM',\n",
       "  '19MFF-00130',\n",
       "  '501 02ND ST',\n",
       "  '1377259',\n",
       "  '',\n",
       "  '10:00',\n",
       "  '12:00',\n",
       "  '142000',\n",
       "  '07/28/2011 02:29:06 PM',\n",
       "  '07/28/2011 02:29:24 PM',\n",
       "  '3774',\n",
       "  '67',\n",
       "  'N',\n",
       "  '37.783108842973800',\n",
       "  '-122.39355933746000'])"
      ]
     },
     "execution_count": 49,
     "metadata": {},
     "output_type": "execute_result"
    }
   ],
   "source": [
    "schedule_days_string.first()"
   ]
  },
  {
   "cell_type": "markdown",
   "metadata": {},
   "source": [
    "## Return the schedule of the given permit, ordered by the day of the week"
   ]
  },
  {
   "cell_type": "code",
   "execution_count": 82,
   "metadata": {
    "ExecuteTime": {
     "end_time": "2021-01-14T15:46:12.968073Z",
     "start_time": "2021-01-14T15:46:12.806234Z"
    }
   },
   "outputs": [],
   "source": [
    "permit_schedule = days.join(schedule)\\\n",
    ".map(lambda x : (x[1][1][2], (x[0], x[1][0], x[1][1][0], x[1][1][1])))\\\n",
    ".sortBy(lambda x: (x[1][0]))"
   ]
  },
  {
   "cell_type": "code",
   "execution_count": 83,
   "metadata": {
    "ExecuteTime": {
     "end_time": "2021-01-14T15:46:13.168553Z",
     "start_time": "2021-01-14T15:46:13.105819Z"
    }
   },
   "outputs": [
    {
     "data": {
      "text/plain": [
       "('19MFF-00130', ('0', 'Sunday', '9AM', '5PM'))"
      ]
     },
     "execution_count": 83,
     "metadata": {},
     "output_type": "execute_result"
    }
   ],
   "source": [
    "permit_schedule.first()"
   ]
  },
  {
   "cell_type": "code",
   "execution_count": 84,
   "metadata": {
    "ExecuteTime": {
     "end_time": "2021-01-14T15:46:13.582287Z",
     "start_time": "2021-01-14T15:46:13.545868Z"
    }
   },
   "outputs": [
    {
     "data": {
      "text/plain": [
       "[('0', 'Sunday', '9AM', '5PM'),\n",
       " ('1', 'Monday', '10AM', '3PM'),\n",
       " ('1', 'Monday', '8AM', '9AM'),\n",
       " ('1', 'Monday', '12PM', '10PM'),\n",
       " ('1', 'Monday', '7AM', '7PM'),\n",
       " ('1', 'Monday', '10AM', '12PM'),\n",
       " ('1', 'Monday', '9AM', '11AM'),\n",
       " ('1', 'Monday', '10AM', '11AM'),\n",
       " ('2', 'Tuesday', '10AM', '3PM'),\n",
       " ('2', 'Tuesday', '10AM', '11AM'),\n",
       " ('2', 'Tuesday', '12PM', '10PM'),\n",
       " ('2', 'Tuesday', '8AM', '9AM'),\n",
       " ('2', 'Tuesday', '10AM', '12PM'),\n",
       " ('2', 'Tuesday', '9AM', '11AM'),\n",
       " ('3', 'Wednesday', '9AM', '11AM'),\n",
       " ('3', 'Wednesday', '7AM', '7PM'),\n",
       " ('3', 'Wednesday', '10AM', '12PM'),\n",
       " ('3', 'Wednesday', '10AM', '3PM'),\n",
       " ('3', 'Wednesday', '12PM', '10PM'),\n",
       " ('4', 'Thursday', '10AM', '12PM'),\n",
       " ('4', 'Thursday', '10AM', '3PM'),\n",
       " ('4', 'Thursday', '10AM', '11AM'),\n",
       " ('4', 'Thursday', '12PM', '10PM'),\n",
       " ('4', 'Thursday', '8AM', '9AM'),\n",
       " ('4', 'Thursday', '7AM', '7PM'),\n",
       " ('4', 'Thursday', '9AM', '11AM'),\n",
       " ('5', 'Friday', '10AM', '11AM'),\n",
       " ('5', 'Friday', '10AM', '3PM'),\n",
       " ('5', 'Friday', '12PM', '10PM'),\n",
       " ('5', 'Friday', '8AM', '9AM'),\n",
       " ('5', 'Friday', '10AM', '12PM'),\n",
       " ('5', 'Friday', '9AM', '11AM'),\n",
       " ('5', 'Friday', '7AM', '7PM'),\n",
       " ('6', 'Saturday', '9AM', '11AM'),\n",
       " ('6', 'Saturday', '7AM', '7PM'),\n",
       " ('6', 'Saturday', '9AM', '5PM')]"
      ]
     },
     "execution_count": 84,
     "metadata": {},
     "output_type": "execute_result"
    }
   ],
   "source": [
    "permit_schedule.lookup('19MFF-00130')"
   ]
  },
  {
   "cell_type": "code",
   "execution_count": 1,
   "metadata": {
    "ExecuteTime": {
     "end_time": "2021-01-14T19:53:00.099100Z",
     "start_time": "2021-01-14T19:52:59.994906Z"
    }
   },
   "outputs": [
    {
     "ename": "NameError",
     "evalue": "name 'sc' is not defined",
     "output_type": "error",
     "traceback": [
      "\u001b[0;31m---------------------------------------------------------------------------\u001b[0m",
      "\u001b[0;31mNameError\u001b[0m                                 Traceback (most recent call last)",
      "\u001b[0;32m<ipython-input-1-8d3513b7698b>\u001b[0m in \u001b[0;36m<module>\u001b[0;34m\u001b[0m\n\u001b[0;32m----> 1\u001b[0;31m \u001b[0msc\u001b[0m\u001b[0;34m.\u001b[0m\u001b[0mstop\u001b[0m\u001b[0;34m(\u001b[0m\u001b[0;34m)\u001b[0m\u001b[0;34m\u001b[0m\u001b[0;34m\u001b[0m\u001b[0m\n\u001b[0m",
      "\u001b[0;31mNameError\u001b[0m: name 'sc' is not defined"
     ]
    }
   ],
   "source": [
    "sc.stop()"
   ]
  },
  {
   "cell_type": "code",
   "execution_count": null,
   "metadata": {},
   "outputs": [],
   "source": []
  }
 ],
 "metadata": {
  "kernelspec": {
   "display_name": "Python 3",
   "language": "python",
   "name": "python3"
  },
  "language_info": {
   "codemirror_mode": {
    "name": "ipython",
    "version": 3
   },
   "file_extension": ".py",
   "mimetype": "text/x-python",
   "name": "python",
   "nbconvert_exporter": "python",
   "pygments_lexer": "ipython3",
   "version": "3.8.2"
  }
 },
 "nbformat": 4,
 "nbformat_minor": 4
}
